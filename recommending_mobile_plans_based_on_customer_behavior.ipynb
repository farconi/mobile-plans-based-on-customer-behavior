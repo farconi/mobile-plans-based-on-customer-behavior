{
 "cells": [
  {
   "cell_type": "markdown",
   "metadata": {},
   "source": [
    "# Recommending Mobile Plans 🤖\n",
    "# Based on Customer Behavior 📱 "
   ]
  },
  {
   "cell_type": "markdown",
   "metadata": {},
   "source": [
    "# Index <a id='back'></a>"
   ]
  },
  {
   "cell_type": "markdown",
   "metadata": {},
   "source": [
    "* [Intro](#intro)\n",
    "\n",
    "      - [Objective](#objective)\n",
    "    \n",
    "    \n",
    "* [Data Analysis and Preparation](#data_prep)\n",
    "\n",
    "     - [Opening and examining the data file](#importing)\n",
    "    \n",
    "     - [Data preprocessing (conference)](#preprocessing)\n",
    "    \n",
    "     - [Division of data into training, validation and test sets](#splitting)\n",
    "    \n",
    "    \n",
    "* [Model Training and Evaluation](#training)\n",
    "\n",
    "     - [Investigation of the quality of different models](#compare_models)\n",
    "    \n",
    "     - [Change of hyperparameters to improve accuracy](#hyperparameters)\n",
    "    \n",
    "     - [Description of the model study results](#model_results)\n",
    "    \n",
    "    \n",
    "* [Model Quality Rating](#model_quality)\n",
    "\n",
    "     - [Verification of model accuracy using the test set](#accuracy)\n",
    "    \n",
    "    \n",
    "* [Additional Task: Real Model Proof](#proof)\n",
    "\n",
    "     - [Dealing with more complex and challenging data](#extend)\n",
    "    \n",
    "     - [In-depth model performance analysis](#deeper)\n",
    "    \n",
    "    \n",
    "* [Conclusion](#conclusion)"
   ]
  },
  {
   "cell_type": "markdown",
   "metadata": {},
   "source": [
    "## Introduction <a id='intro'></a>\n",
    "\n",
    "This project aims to develop a classification model for the mobile operator Megaline. The company wants to analyze customer behavior and recommend the most suitable plan between Smart and Ultra. For this, we will use behavior data from subscribers who have already migrated to the new plans."
   ]
  },
  {
   "cell_type": "markdown",
   "metadata": {},
   "source": [
    "### Objective <a id='objective'></a>\n",
    "Our main objective is to develop a model with a minimum accuracy of 0.75."
   ]
  },
  {
   "cell_type": "markdown",
   "metadata": {},
   "source": [
    "## Data Analysis and Preparation <a id='data_prep'></a>"
   ]
  },
  {
   "cell_type": "markdown",
   "metadata": {},
   "source": [
    "### Opening and importing and pre-analysis <a id='importing'></a>\n",
    "Let's start by importing the libraries and files and examining them:"
   ]
  },
  {
   "cell_type": "code",
   "execution_count": 1,
   "metadata": {},
   "outputs": [],
   "source": [
    "# Importing the libraries\n",
    "import pandas as pd\n",
    "from sklearn.metrics import mean_squared_error\n",
    "from sklearn.tree import DecisionTreeClassifier\n",
    "from sklearn.ensemble import RandomForestClassifier\n",
    "from sklearn.linear_model import LogisticRegression\n",
    "import seaborn as sns\n",
    "import matplotlib.pyplot as plt\n",
    "from sklearn.model_selection import train_test_split\n",
    "from sklearn.metrics import accuracy_score\n",
    "from sklearn.metrics import confusion_matrix\n",
    "from sklearn.metrics import classification_report"
   ]
  },
  {
   "cell_type": "code",
   "execution_count": 2,
   "metadata": {},
   "outputs": [],
   "source": [
    "# Importing the 'users_behavior_upd' file\n",
    "df = pd.read_csv('/datasets/users_behavior_upd.csv')"
   ]
  },
  {
   "cell_type": "code",
   "execution_count": 3,
   "metadata": {},
   "outputs": [
    {
     "data": {
      "text/html": [
       "<div>\n",
       "<style scoped>\n",
       "    .dataframe tbody tr th:only-of-type {\n",
       "        vertical-align: middle;\n",
       "    }\n",
       "\n",
       "    .dataframe tbody tr th {\n",
       "        vertical-align: top;\n",
       "    }\n",
       "\n",
       "    .dataframe thead th {\n",
       "        text-align: right;\n",
       "    }\n",
       "</style>\n",
       "<table border=\"1\" class=\"dataframe\">\n",
       "  <thead>\n",
       "    <tr style=\"text-align: right;\">\n",
       "      <th></th>\n",
       "      <th>calls</th>\n",
       "      <th>minutes</th>\n",
       "      <th>messages</th>\n",
       "      <th>mb_used</th>\n",
       "      <th>is_ultimate</th>\n",
       "    </tr>\n",
       "  </thead>\n",
       "  <tbody>\n",
       "    <tr>\n",
       "      <th>0</th>\n",
       "      <td>40.0</td>\n",
       "      <td>311.90</td>\n",
       "      <td>83.0</td>\n",
       "      <td>19915.42</td>\n",
       "      <td>0</td>\n",
       "    </tr>\n",
       "    <tr>\n",
       "      <th>1</th>\n",
       "      <td>85.0</td>\n",
       "      <td>516.75</td>\n",
       "      <td>56.0</td>\n",
       "      <td>22696.96</td>\n",
       "      <td>0</td>\n",
       "    </tr>\n",
       "    <tr>\n",
       "      <th>2</th>\n",
       "      <td>77.0</td>\n",
       "      <td>467.66</td>\n",
       "      <td>86.0</td>\n",
       "      <td>21060.45</td>\n",
       "      <td>0</td>\n",
       "    </tr>\n",
       "    <tr>\n",
       "      <th>3</th>\n",
       "      <td>106.0</td>\n",
       "      <td>745.53</td>\n",
       "      <td>81.0</td>\n",
       "      <td>8437.39</td>\n",
       "      <td>1</td>\n",
       "    </tr>\n",
       "    <tr>\n",
       "      <th>4</th>\n",
       "      <td>66.0</td>\n",
       "      <td>418.74</td>\n",
       "      <td>1.0</td>\n",
       "      <td>14502.75</td>\n",
       "      <td>0</td>\n",
       "    </tr>\n",
       "    <tr>\n",
       "      <th>...</th>\n",
       "      <td>...</td>\n",
       "      <td>...</td>\n",
       "      <td>...</td>\n",
       "      <td>...</td>\n",
       "      <td>...</td>\n",
       "    </tr>\n",
       "    <tr>\n",
       "      <th>3209</th>\n",
       "      <td>122.0</td>\n",
       "      <td>910.98</td>\n",
       "      <td>20.0</td>\n",
       "      <td>35124.90</td>\n",
       "      <td>1</td>\n",
       "    </tr>\n",
       "    <tr>\n",
       "      <th>3210</th>\n",
       "      <td>25.0</td>\n",
       "      <td>190.36</td>\n",
       "      <td>0.0</td>\n",
       "      <td>3275.61</td>\n",
       "      <td>0</td>\n",
       "    </tr>\n",
       "    <tr>\n",
       "      <th>3211</th>\n",
       "      <td>97.0</td>\n",
       "      <td>634.44</td>\n",
       "      <td>70.0</td>\n",
       "      <td>13974.06</td>\n",
       "      <td>0</td>\n",
       "    </tr>\n",
       "    <tr>\n",
       "      <th>3212</th>\n",
       "      <td>64.0</td>\n",
       "      <td>462.32</td>\n",
       "      <td>90.0</td>\n",
       "      <td>31239.78</td>\n",
       "      <td>0</td>\n",
       "    </tr>\n",
       "    <tr>\n",
       "      <th>3213</th>\n",
       "      <td>80.0</td>\n",
       "      <td>566.09</td>\n",
       "      <td>6.0</td>\n",
       "      <td>29480.52</td>\n",
       "      <td>1</td>\n",
       "    </tr>\n",
       "  </tbody>\n",
       "</table>\n",
       "<p>3214 rows × 5 columns</p>\n",
       "</div>"
      ],
      "text/plain": [
       "      calls  minutes  messages   mb_used  is_ultimate\n",
       "0      40.0   311.90      83.0  19915.42            0\n",
       "1      85.0   516.75      56.0  22696.96            0\n",
       "2      77.0   467.66      86.0  21060.45            0\n",
       "3     106.0   745.53      81.0   8437.39            1\n",
       "4      66.0   418.74       1.0  14502.75            0\n",
       "...     ...      ...       ...       ...          ...\n",
       "3209  122.0   910.98      20.0  35124.90            1\n",
       "3210   25.0   190.36       0.0   3275.61            0\n",
       "3211   97.0   634.44      70.0  13974.06            0\n",
       "3212   64.0   462.32      90.0  31239.78            0\n",
       "3213   80.0   566.09       6.0  29480.52            1\n",
       "\n",
       "[3214 rows x 5 columns]"
      ]
     },
     "execution_count": 3,
     "metadata": {},
     "output_type": "execute_result"
    }
   ],
   "source": [
    "# Showing some rows for analysis\n",
    "df"
   ]
  },
  {
   "cell_type": "markdown",
   "metadata": {},
   "source": [
    "[Back to Index](#back)"
   ]
  },
  {
   "cell_type": "markdown",
   "metadata": {},
   "source": [
    "### Data preprocessing (conference) <a id='preprocessing'></a>\n",
    "Let's check if there are any preparations to be performed on the data set:"
   ]
  },
  {
   "cell_type": "code",
   "execution_count": 4,
   "metadata": {},
   "outputs": [
    {
     "name": "stdout",
     "output_type": "stream",
     "text": [
      "<class 'pandas.core.frame.DataFrame'>\n",
      "RangeIndex: 3214 entries, 0 to 3213\n",
      "Data columns (total 5 columns):\n",
      " #   Column       Non-Null Count  Dtype  \n",
      "---  ------       --------------  -----  \n",
      " 0   calls        3214 non-null   float64\n",
      " 1   minutes      3214 non-null   float64\n",
      " 2   messages     3214 non-null   float64\n",
      " 3   mb_used      3214 non-null   float64\n",
      " 4   is_ultimate  3214 non-null   int64  \n",
      "dtypes: float64(4), int64(1)\n",
      "memory usage: 125.7 KB\n",
      "\n"
     ]
    },
    {
     "data": {
      "text/html": [
       "<div>\n",
       "<style scoped>\n",
       "    .dataframe tbody tr th:only-of-type {\n",
       "        vertical-align: middle;\n",
       "    }\n",
       "\n",
       "    .dataframe tbody tr th {\n",
       "        vertical-align: top;\n",
       "    }\n",
       "\n",
       "    .dataframe thead th {\n",
       "        text-align: right;\n",
       "    }\n",
       "</style>\n",
       "<table border=\"1\" class=\"dataframe\">\n",
       "  <thead>\n",
       "    <tr style=\"text-align: right;\">\n",
       "      <th></th>\n",
       "      <th>calls</th>\n",
       "      <th>minutes</th>\n",
       "      <th>messages</th>\n",
       "      <th>mb_used</th>\n",
       "      <th>is_ultimate</th>\n",
       "    </tr>\n",
       "  </thead>\n",
       "  <tbody>\n",
       "    <tr>\n",
       "      <th>count</th>\n",
       "      <td>3214.000000</td>\n",
       "      <td>3214.000000</td>\n",
       "      <td>3214.000000</td>\n",
       "      <td>3214.000000</td>\n",
       "      <td>3214.000000</td>\n",
       "    </tr>\n",
       "    <tr>\n",
       "      <th>mean</th>\n",
       "      <td>63.038892</td>\n",
       "      <td>438.208787</td>\n",
       "      <td>38.281269</td>\n",
       "      <td>17207.673836</td>\n",
       "      <td>0.306472</td>\n",
       "    </tr>\n",
       "    <tr>\n",
       "      <th>std</th>\n",
       "      <td>33.236368</td>\n",
       "      <td>234.569872</td>\n",
       "      <td>36.148326</td>\n",
       "      <td>7570.968246</td>\n",
       "      <td>0.461100</td>\n",
       "    </tr>\n",
       "    <tr>\n",
       "      <th>min</th>\n",
       "      <td>0.000000</td>\n",
       "      <td>0.000000</td>\n",
       "      <td>0.000000</td>\n",
       "      <td>0.000000</td>\n",
       "      <td>0.000000</td>\n",
       "    </tr>\n",
       "    <tr>\n",
       "      <th>25%</th>\n",
       "      <td>40.000000</td>\n",
       "      <td>274.575000</td>\n",
       "      <td>9.000000</td>\n",
       "      <td>12491.902500</td>\n",
       "      <td>0.000000</td>\n",
       "    </tr>\n",
       "    <tr>\n",
       "      <th>50%</th>\n",
       "      <td>62.000000</td>\n",
       "      <td>430.600000</td>\n",
       "      <td>30.000000</td>\n",
       "      <td>16943.235000</td>\n",
       "      <td>0.000000</td>\n",
       "    </tr>\n",
       "    <tr>\n",
       "      <th>75%</th>\n",
       "      <td>82.000000</td>\n",
       "      <td>571.927500</td>\n",
       "      <td>57.000000</td>\n",
       "      <td>21424.700000</td>\n",
       "      <td>1.000000</td>\n",
       "    </tr>\n",
       "    <tr>\n",
       "      <th>max</th>\n",
       "      <td>244.000000</td>\n",
       "      <td>1632.060000</td>\n",
       "      <td>224.000000</td>\n",
       "      <td>49745.730000</td>\n",
       "      <td>1.000000</td>\n",
       "    </tr>\n",
       "  </tbody>\n",
       "</table>\n",
       "</div>"
      ],
      "text/plain": [
       "             calls      minutes     messages       mb_used  is_ultimate\n",
       "count  3214.000000  3214.000000  3214.000000   3214.000000  3214.000000\n",
       "mean     63.038892   438.208787    38.281269  17207.673836     0.306472\n",
       "std      33.236368   234.569872    36.148326   7570.968246     0.461100\n",
       "min       0.000000     0.000000     0.000000      0.000000     0.000000\n",
       "25%      40.000000   274.575000     9.000000  12491.902500     0.000000\n",
       "50%      62.000000   430.600000    30.000000  16943.235000     0.000000\n",
       "75%      82.000000   571.927500    57.000000  21424.700000     1.000000\n",
       "max     244.000000  1632.060000   224.000000  49745.730000     1.000000"
      ]
     },
     "execution_count": 4,
     "metadata": {},
     "output_type": "execute_result"
    }
   ],
   "source": [
    "# Checking some Dataframe details\n",
    "\n",
    "df.info()\n",
    "print()\n",
    "df.describe()"
   ]
  },
  {
   "cell_type": "markdown",
   "metadata": {},
   "source": [
    "We can confirm that we really don't have null values and the names and data types of each column are proper."
   ]
  },
  {
   "cell_type": "markdown",
   "metadata": {},
   "source": [
    "Let's create a boxplot per variable to better observe the details of the outliers:"
   ]
  },
  {
   "cell_type": "code",
   "execution_count": 24,
   "metadata": {},
   "outputs": [
    {
     "data": {
      "image/png": "[encoded data removed]",
      "text/plain": [
       "<Figure size 1008x432 with 5 Axes>"
      ]
     },
     "metadata": {
      "needs_background": "light"
     },
     "output_type": "display_data"
    }
   ],
   "source": [
    "plt.figure(figsize=(14, 6))\n",
    "\n",
    "plt.subplot(2, 3, 1)\n",
    "sns.boxplot(x=df['calls'])\n",
    "plt.xlabel('calls')\n",
    "plt.title('Distribution of Values for the Variable \"calls\"')\n",
    "\n",
    "plt.subplot(2, 3, 2)\n",
    "sns.boxplot(x=df['minutes'])\n",
    "plt.xlabel('minutes')\n",
    "plt.title('Distribution of Values for the Variable \"minutes\"')\n",
    "\n",
    "plt.subplot(2, 3, 3)\n",
    "sns.boxplot(x=df['messages'])\n",
    "plt.xlabel('messages')\n",
    "plt.title('Distribution of Values for the Variable \"messages\"')\n",
    "\n",
    "plt.subplot(2, 3, 4)\n",
    "sns.boxplot(x=df['mb_used'])\n",
    "plt.xlabel('mb_used')\n",
    "plt.title('Distribution of Values for the Variable \"mb_used\"')\n",
    "\n",
    "plt.subplot(2, 3, 5)\n",
    "sns.boxplot(x=df['is_ultimate'])\n",
    "plt.xlabel('is_ultimate')\n",
    "plt.title('Distribution of Values for the Variable \"is_ultimate\"')\n",
    "\n",
    "plt.tight_layout()\n",
    "plt.show()"
   ]
  },
  {
   "cell_type": "markdown",
   "metadata": {},
   "source": [
    "It may be that some of these outliers may interfere with the validation predictions of our models.\n",
    "\n",
    "We'll come back to this detail if we deem it necessary, but we'll keep it that way for now."
   ]
  },
  {
   "cell_type": "markdown",
   "metadata": {},
   "source": [
    "### Splitting the data into training, validation and testing sets <a id='splitting'></a>"
   ]
  },
  {
   "cell_type": "markdown",
   "metadata": {},
   "source": [
    "The main reason we split the data into training, validation, and testing sets is to be able to assess the performance and generalizability of the machine learning model.\n",
    "\n",
    "\n",
    "Splitting the data in this way allows you to verify that the model is properly fitting the training data, is generalizing well to unseen data, and is capable of making accurate predictions in real situations. This helps us make informed decisions about model selection and tuning before deploying it to a production environment."
   ]
  },
  {
   "cell_type": "code",
   "execution_count": 6,
   "metadata": {},
   "outputs": [
    {
     "name": "stdout",
     "output_type": "stream",
     "text": [
      "Training set size: 2249\n",
      "Test set size: 483\n",
      "Validation set size: 482\n"
     ]
    }
   ],
   "source": [
    "# Division into training, validation, and testing sets\n",
    "train_ratio = 0.7 # ratio for training set\n",
    "val_ratio = 0.15 # ratio to validation set\n",
    "test_ratio = 0.15 # ratio for test set\n",
    "\n",
    "# Division into training and testing set\n",
    "train_data, test_data = train_test_split(df, test_size=test_ratio, random_state=42)\n",
    "\n",
    "# Division of training set into training and validation set\n",
    "train_data, val_data = train_test_split(train_data, test_size=val_ratio/(train_ratio+val_ratio), random_state=42)\n",
    "\n",
    "# Check the size of sets\n",
    "print(\"Training set size:\", len(train_data))\n",
    "print(\"Test set size:\", len(test_data))\n",
    "print(\"Validation set size:\", len(val_data))"
   ]
  },
  {
   "cell_type": "markdown",
   "metadata": {},
   "source": [
    "Splitting the data is important to ensure an unbiased and reliable assessment of model performance.\n",
    "\n",
    "In this code, we are using scikit-learn's `train_test_split` function to split the data into training, validation and testing sets. The ratio for each set is specified by the values of `train_ratio`, `val_ratio` and `test_ratio`.\n",
    "\n",
    "Here, we set the ratio to 70% for training, 15% for validation, and 15% for testing."
   ]
  },
  {
   "cell_type": "markdown",
   "metadata": {},
   "source": [
    "## Model Training and Assessment <a id='training'></a>"
   ]
  },
  {
   "cell_type": "code",
   "execution_count": 7,
   "metadata": {},
   "outputs": [
    {
     "data": {
      "text/plain": [
       "Index(['calls', 'minutes', 'messages', 'mb_used', 'is_ultimate'], dtype='object')"
      ]
     },
     "execution_count": 7,
     "metadata": {},
     "output_type": "execute_result"
    }
   ],
   "source": [
    "# Reviewing column names for accurate choice\n",
    "df.columns"
   ]
  },
  {
   "cell_type": "markdown",
   "metadata": {},
   "source": [
    "Before we start investigating the quality of different models, it is necessary to separate the feature and target sets from the training set (`train_data`). This separation will allow us to train the models using the features and evaluate their ability to predict the target correctly.\n",
    "\n",
    "Considering that the target column is called \"is_ultimate\", we can perform the separation as follows:"
   ]
  },
  {
   "cell_type": "code",
   "execution_count": 8,
   "metadata": {},
   "outputs": [],
   "source": [
    "# Separating the features and target from the training set\n",
    "train_features = train_data.drop(\"is_ultimate\", axis=1)\n",
    "train_target = train_data[\"is_ultimate\"]"
   ]
  },
  {
   "cell_type": "code",
   "execution_count": 9,
   "metadata": {},
   "outputs": [],
   "source": [
    "# Separating the features and target from the test set\n",
    "test_features = test_data.drop(\"is_ultimate\", axis=1)\n",
    "test_target = test_data[\"is_ultimate\"]"
   ]
  },
  {
   "cell_type": "code",
   "execution_count": 10,
   "metadata": {},
   "outputs": [],
   "source": [
    "# Separating the features and the target from the validation set\n",
    "val_features = val_data.drop(\"is_ultimate\", axis=1)\n",
    "val_target = val_data[\"is_ultimate\"]"
   ]
  },
  {
   "cell_type": "markdown",
   "metadata": {},
   "source": [
    "Now we have train_features, which contains all feature columns except \"is_ultimate\", and train_target, which contains the values of the target column \"is_ultimate\". These variables can then be used to train, test and validate the models afterwards."
   ]
  },
  {
   "cell_type": "markdown",
   "metadata": {},
   "source": [
    "[Back to Index](#back)"
   ]
  },
  {
   "cell_type": "markdown",
   "metadata": {},
   "source": [
    "### Investigation of the quality of different models <a id='compare_models'></a>"
   ]
  },
  {
   "cell_type": "markdown",
   "metadata": {},
   "source": [
    "**Decision tree**"
   ]
  },
  {
   "cell_type": "code",
   "execution_count": 11,
   "metadata": {
    "scrolled": false
   },
   "outputs": [
    {
     "name": "stdout",
     "output_type": "stream",
     "text": [
      "Accuracy of the Decision Tree model for Ranking in the validation set: 0.7282157676348547\n"
     ]
    }
   ],
   "source": [
    "# Creating the model\n",
    "decision_tree = DecisionTreeClassifier()\n",
    "\n",
    "# Training the model\n",
    "decision_tree.fit(train_features, train_target)\n",
    "\n",
    "# Evaluating model quality in the validation set\n",
    "tree_val_accuracy = decision_tree.score(val_features, val_target)\n",
    "print(\"Accuracy of the Decision Tree model for Ranking in the validation set:\", tree_val_accuracy)"
   ]
  },
  {
   "cell_type": "markdown",
   "metadata": {},
   "source": [
    "**Random Forest**"
   ]
  },
  {
   "cell_type": "code",
   "execution_count": 12,
   "metadata": {
    "scrolled": true
   },
   "outputs": [
    {
     "name": "stdout",
     "output_type": "stream",
     "text": [
      "Accuracy of Random Forest model for Classification in validation set: 0.7717842323651453\n"
     ]
    }
   ],
   "source": [
    "# Creating the model\n",
    "random_forest = RandomForestClassifier()\n",
    "\n",
    "# Training the model\n",
    "random_forest.fit(train_features, train_target)\n",
    "\n",
    "# Evaluating model quality in the validation set\n",
    "forest_val_accuracy = random_forest.score(val_features, val_target)\n",
    "print(\"Accuracy of Random Forest model for Classification in validation set:\", forest_val_accuracy)"
   ]
  },
  {
   "cell_type": "markdown",
   "metadata": {},
   "source": [
    "**Logistic Regression**"
   ]
  },
  {
   "cell_type": "code",
   "execution_count": 13,
   "metadata": {},
   "outputs": [
    {
     "name": "stdout",
     "output_type": "stream",
     "text": [
      "Accuracy of the Logistic Regression model on the validation set: 0.6846473029045643\n"
     ]
    }
   ],
   "source": [
    "# Creating the model\n",
    "logistic_regression = LogisticRegression()\n",
    "\n",
    "# Training the model\n",
    "logistic_regression.fit(train_features, train_target)\n",
    "\n",
    "# Evaluating model quality in the validation set\n",
    "logistic_val_accuracy = logistic_regression.score(val_features, val_target)\n",
    "print(\"Accuracy of the Logistic Regression model on the validation set:\", logistic_val_accuracy)"
   ]
  },
  {
   "cell_type": "markdown",
   "metadata": {},
   "source": [
    "Based on the results of the accuracies of the models in the validation set, **we can conclude** that:\n",
    "\n",
    "- The Decision Tree model for Classification showed an accuracy of approximately 0.728 in the validation set. We observe that this model performs better than Logistic Regression, but we still believe there is room for improvement. **This model is known for its ability to handle classification issues and generally performs well on complex datasets.**\n",
    "\n",
    "\n",
    "- The Random Forest for Classification model obtained an accuracy of approximately 0.774 in the validation set, making it the model with the best performance among those tested and **demonstrating the ability of this model to make binary predictions based on the provided characteristics.** We consider this model as a promising option with potential for more accurate predictions.\n",
    "\n",
    "\n",
    "- On the other hand, the Logistic Regression model showed the lowest accuracy, approximately 0.685, in the validation set. Therefore, we believe there is room for improvement in its performance. **This could also indicate that the relationship between the features and the target does not follow a logistic distribution and therefore this particular model is not the best choice for the problem at hand.**\n",
    "\n",
    "Based on these conclusions, we will continue to adjust the hyperparameters of the models to seek even better performance. We emphasize the importance of evaluating the performance of the models in the test set, in an impartial way, before making any final choices. This will ensure a more reliable assessment of the performance of the models on previously unseen data.\n",
    "\n",
    "Let's focus on changing hyperparameter."
   ]
  },
  {
   "cell_type": "markdown",
   "metadata": {},
   "source": [
    "[Back to Index](#back)"
   ]
  },
  {
   "cell_type": "markdown",
   "metadata": {},
   "source": [
    "### Changing hyperparameters to improve accuracy <a id='hyperparameters'></a>"
   ]
  },
  {
   "cell_type": "markdown",
   "metadata": {},
   "source": [
    "When considering the main hyperparameters for classification models, we must take into account the following parameters:\n",
    "\n",
    "#### **To Decision Tree for Classification:**\n",
    "\n",
    "`max_depth`: controls the maximum depth of the tree. Increasing this value can lead to overfitting, while decreasing it can lead to underfitting.\n",
    "\n",
    "`min_samples_split`: defines the minimum number of samples needed to split an internal tree node. Increasing this value can prevent overfitting.\n",
    "\n",
    "`min_samples_leaf`: defines the minimum number of samples needed in a leaf of the tree. Increasing this value can also prevent overfitting."
   ]
  },
  {
   "cell_type": "code",
   "execution_count": 14,
   "metadata": {},
   "outputs": [
    {
     "name": "stdout",
     "output_type": "stream",
     "text": [
      "Accuracy of the Decision Tree model for Ranking in the validation set: 0.7593360995850622\n"
     ]
    }
   ],
   "source": [
    "# Creating the Decision Tree model with the adjusted hyperparameters\n",
    "decision_tree = DecisionTreeClassifier(max_depth=10, min_samples_split=2, min_samples_leaf=1)\n",
    "\n",
    "# Training the model\n",
    "decision_tree.fit(train_features, train_target)\n",
    "\n",
    "# Evaluating the quality of the models with the hyperparameters adjusted in the validation set\n",
    "tree_val_accuracy = decision_tree.score(val_features, val_target)\n",
    "\n",
    "print(\"Accuracy of the Decision Tree model for Ranking in the validation set:\", tree_val_accuracy)"
   ]
  },
  {
   "cell_type": "markdown",
   "metadata": {},
   "source": [
    "Vamos fazer mais alguns testes usando \"for loops\":"
   ]
  },
  {
   "cell_type": "code",
   "execution_count": 15,
   "metadata": {},
   "outputs": [
    {
     "name": "stdout",
     "output_type": "stream",
     "text": [
      "Accuracy for min_samples_leaf=2, min_samples_split=2: 0.7593360995850622\n",
      "Accuracy for min_samples_leaf=2, min_samples_split=3: 0.7614107883817427\n",
      "Accuracy for min_samples_leaf=2, min_samples_split=4: 0.7655601659751037\n",
      "Accuracy for min_samples_leaf=3, min_samples_split=2: 0.7572614107883817\n",
      "Accuracy for min_samples_leaf=3, min_samples_split=3: 0.7655601659751037\n",
      "Accuracy for min_samples_leaf=3, min_samples_split=4: 0.7572614107883817\n",
      "Accuracy for min_samples_leaf=4, min_samples_split=2: 0.7614107883817427\n",
      "Accuracy for min_samples_leaf=4, min_samples_split=3: 0.7614107883817427\n",
      "Accuracy for min_samples_leaf=4, min_samples_split=4: 0.7614107883817427\n"
     ]
    }
   ],
   "source": [
    "# List of values for min_samples_leaf and min_samples_split that will be tested\n",
    "min_samples_leaf_values = [2, 3, 4]\n",
    "min_samples_split_values = [2, 3, 4]\n",
    "\n",
    "# Dictionary to store the accuracies for each combination of hyperparameters\n",
    "accuracy_scores = {}\n",
    "\n",
    "# nested for loop to test all combinations of hyperparameters\n",
    "for min_samples_leaf in min_samples_leaf_values:\n",
    "     for min_samples_split in min_samples_split_values:\n",
    "         # Creating the model with the current hyperparameters\n",
    "         decision_tree = DecisionTreeClassifier(max_depth=10, min_samples_split=min_samples_split, min_samples_leaf=min_samples_leaf)\n",
    "        \n",
    "         # Training the model\n",
    "         decision_tree.fit(train_features, train_target)\n",
    "        \n",
    "         # Evaluating the accuracy in the validation set\n",
    "         val_accuracy = decision_tree.score(val_features, val_target)\n",
    "        \n",
    "         # Storing the accuracy for the current combination of hyperparameters\n",
    "         accuracy_scores[(min_samples_leaf, min_samples_split)] = val_accuracy\n",
    "\n",
    "# Printing the accuracies for each combination of hyperparameters\n",
    "for params, accuracy in accuracy_scores.items():\n",
    "     min_samples_leaf, min_samples_split = params\n",
    "     print(f\"Accuracy for min_samples_leaf={min_samples_leaf}, min_samples_split={min_samples_split}: {accuracy}\")"
   ]
  },
  {
   "cell_type": "markdown",
   "metadata": {},
   "source": [
    "It appears that the changes to the `min_samples_leaf` and `min_samples_split` hyperparameters did not result in a significant improvement in the accuracy of the Decision Tree model in the validation set. The highest accuracy obtained with the tested combinations is 0.7676, but it is still close to the previous accuracy of 0.7635.\n",
    "\n",
    "So let's keep the highest values of these hyperparameters (min_samples_leaf=2, min_samples_split=3: 0.7676) and now try a \"for loop\" for the `max_depth` hyperparameter."
   ]
  },
  {
   "cell_type": "code",
   "execution_count": 16,
   "metadata": {},
   "outputs": [
    {
     "name": "stdout",
     "output_type": "stream",
     "text": [
      "Accuracy for max_depth=5: 0.7406639004149378\n",
      "Accuracy for max_depth=10: 0.7655601659751037\n",
      "Accuracy for max_depth=15: 0.7468879668049793\n",
      "Accuracy for max_depth=20: 0.7344398340248963\n"
     ]
    }
   ],
   "source": [
    "max_depth_values = [5, 10, 15, 20]\n",
    "\n",
    "for depth in max_depth_values:\n",
    "    decision_tree = DecisionTreeClassifier(max_depth=depth, min_samples_split=3, min_samples_leaf=2)\n",
    "    decision_tree.fit(train_features, train_target)\n",
    "    val_accuracy = decision_tree.score(val_features, val_target)\n",
    "    print(\"Accuracy for max_depth={}:\".format(depth), val_accuracy)\n"
   ]
  },
  {
   "cell_type": "markdown",
   "metadata": {},
   "source": [
    "It seems that the **max_depth=10** value actually results in the highest accuracy in the validation set.\n",
    "\n",
    "So **for the Decision Tree for Classification** let's keep this value for the max_depth hyperparameter of the Decision Tree model.\n",
    "\n",
    "The accuracy obtained with max_depth=10, min_samples_split=3 and min_samples_leaf=2 was 0.7676, which is the highest among the combinations tested so far."
   ]
  },
  {
   "cell_type": "markdown",
   "metadata": {},
   "source": [
    "#### **For the Random Forest for Classification model, the main hyperparameters include:**\n",
    "\n",
    "`n_estimators`: sets the number of trees in the forest. A greater number of estimators generally leads to better performance, but also increases training time.\n",
    "\n",
    "\n",
    "`max_features`: controls the amount of features considered in each division of a node.\n",
    "\n",
    "\n",
    "`max_depth`: controls the maximum depth of each tree in the forest.\n",
    "\n",
    "\n",
    "`min_samples_split`: defines the minimum number of samples needed to split an internal node of each tree.\n",
    "\n",
    "\n",
    "`min_samples_leaf`: defines the minimum number of samples needed in a leaf of each tree."
   ]
  },
  {
   "cell_type": "code",
   "execution_count": 17,
   "metadata": {},
   "outputs": [
    {
     "name": "stdout",
     "output_type": "stream",
     "text": [
      "Accuracy of Random Forest model for Classification in validation set: 0.7780082987551867\n"
     ]
    }
   ],
   "source": [
    "# Creating the Random Forest model with the adjusted hyperparameters\n",
    "random_forest = RandomForestClassifier(n_estimators=100, max_depth=10, min_samples_split=2, min_samples_leaf=1)\n",
    "\n",
    "# Training the model\n",
    "random_forest.fit(train_features, train_target)\n",
    "\n",
    "# Evaluating model quality on the test set\n",
    "forest_val_accuracy = random_forest.score(val_features, val_target)\n",
    "\n",
    "print(\"Accuracy of Random Forest model for Classification in validation set:\", forest_val_accuracy)"
   ]
  },
  {
   "cell_type": "markdown",
   "metadata": {},
   "source": [
    "We can again use for loops to test different combinations of hyperparameters in the Random Forest model.\n",
    "\n",
    "Let's run through all possible combinations of the `min_samples_leaf` and `min_samples_split` hyperparameters and print the corresponding accuracy for each combination."
   ]
  },
  {
   "cell_type": "code",
   "execution_count": 18,
   "metadata": {},
   "outputs": [
    {
     "name": "stdout",
     "output_type": "stream",
     "text": [
      "Accuracy for min_samples_leaf=2, min_samples_split=2: 0.7717842323651453\n",
      "Accuracy for min_samples_leaf=2, min_samples_split=3: 0.7800829875518672\n",
      "Accuracy for min_samples_leaf=2, min_samples_split=4: 0.7780082987551867\n",
      "Accuracy for min_samples_leaf=3, min_samples_split=2: 0.7738589211618258\n",
      "Accuracy for min_samples_leaf=3, min_samples_split=3: 0.7842323651452282\n",
      "Accuracy for min_samples_leaf=3, min_samples_split=4: 0.7759336099585062\n",
      "Accuracy for min_samples_leaf=4, min_samples_split=2: 0.7780082987551867\n",
      "Accuracy for min_samples_leaf=4, min_samples_split=3: 0.7780082987551867\n",
      "Accuracy for min_samples_leaf=4, min_samples_split=4: 0.7738589211618258\n",
      "\n",
      "Best combination of hyperparameters:\n",
      "min_samples_leaf:  3\n",
      "min_samples_split:  3\n",
      "Accuracy:  0.7842323651452282\n"
     ]
    }
   ],
   "source": [
    "min_samples_leaf_values = [2, 3, 4]\n",
    "min_samples_split_values = [2, 3, 4]\n",
    "\n",
    "best_accuracy = 0.0\n",
    "best_min_samples_leaf = None\n",
    "best_min_samples_split = None\n",
    "\n",
    "for min_samples_leaf in min_samples_leaf_values:\n",
    "    for min_samples_split in min_samples_split_values:\n",
    "        # Creating the Random Forest model with the adjusted hyperparameters\n",
    "        random_forest = RandomForestClassifier(n_estimators=100, max_depth=10, min_samples_split=min_samples_split, min_samples_leaf=min_samples_leaf)\n",
    "\n",
    "        # Training the model\n",
    "        random_forest.fit(train_features, train_target)\n",
    "\n",
    "        # Evaluating model quality in the validation set\n",
    "        forest_val_accuracy = random_forest.score(val_features, val_target)\n",
    "\n",
    "        print(\"Accuracy for min_samples_leaf={}, min_samples_split={}: {}\".format(min_samples_leaf, min_samples_split, forest_val_accuracy))\n",
    "\n",
    "        # Checking if the new combination of hyperparameters obtained a better accuracy\n",
    "        if forest_val_accuracy > best_accuracy:\n",
    "            best_accuracy = forest_val_accuracy\n",
    "            best_min_samples_leaf = min_samples_leaf\n",
    "            best_min_samples_split = min_samples_split\n",
    "\n",
    "print(\"\\nBest combination of hyperparameters:\")\n",
    "print(\"min_samples_leaf: \", best_min_samples_leaf)\n",
    "print(\"min_samples_split: \", best_min_samples_split)\n",
    "print(\"Accuracy: \", best_accuracy)"
   ]
  },
  {
   "cell_type": "markdown",
   "metadata": {},
   "source": [
    "Let's now test different combinations of `n_estimators`, `max_features` and `max_depth` hyperparameters for the Random Forest model:"
   ]
  },
  {
   "cell_type": "code",
   "execution_count": 19,
   "metadata": {},
   "outputs": [
    {
     "name": "stdout",
     "output_type": "stream",
     "text": [
      "Accuracy for n_estimators=50, max_features=auto, max_depth=5: 0.7655601659751037\n",
      "Accuracy for n_estimators=50, max_features=auto, max_depth=10: 0.7738589211618258\n",
      "Accuracy for n_estimators=50, max_features=auto, max_depth=15: 0.7738589211618258\n",
      "Accuracy for n_estimators=50, max_features=sqrt, max_depth=5: 0.7655601659751037\n",
      "Accuracy for n_estimators=50, max_features=sqrt, max_depth=10: 0.7780082987551867\n",
      "Accuracy for n_estimators=50, max_features=sqrt, max_depth=15: 0.7800829875518672\n",
      "Accuracy for n_estimators=50, max_features=log2, max_depth=5: 0.7697095435684648\n",
      "Accuracy for n_estimators=50, max_features=log2, max_depth=10: 0.7759336099585062\n",
      "Accuracy for n_estimators=50, max_features=log2, max_depth=15: 0.7821576763485477\n",
      "Accuracy for n_estimators=100, max_features=auto, max_depth=5: 0.7676348547717843\n",
      "Accuracy for n_estimators=100, max_features=auto, max_depth=10: 0.7800829875518672\n",
      "Accuracy for n_estimators=100, max_features=auto, max_depth=15: 0.7842323651452282\n",
      "Accuracy for n_estimators=100, max_features=sqrt, max_depth=5: 0.7676348547717843\n",
      "Accuracy for n_estimators=100, max_features=sqrt, max_depth=10: 0.7759336099585062\n",
      "Accuracy for n_estimators=100, max_features=sqrt, max_depth=15: 0.7821576763485477\n",
      "Accuracy for n_estimators=100, max_features=log2, max_depth=5: 0.7697095435684648\n",
      "Accuracy for n_estimators=100, max_features=log2, max_depth=10: 0.7759336099585062\n",
      "Accuracy for n_estimators=100, max_features=log2, max_depth=15: 0.7821576763485477\n",
      "Accuracy for n_estimators=150, max_features=auto, max_depth=5: 0.7676348547717843\n",
      "Accuracy for n_estimators=150, max_features=auto, max_depth=10: 0.7800829875518672\n",
      "Accuracy for n_estimators=150, max_features=auto, max_depth=15: 0.7800829875518672\n",
      "Accuracy for n_estimators=150, max_features=sqrt, max_depth=5: 0.7676348547717843\n",
      "Accuracy for n_estimators=150, max_features=sqrt, max_depth=10: 0.7780082987551867\n",
      "Accuracy for n_estimators=150, max_features=sqrt, max_depth=15: 0.7759336099585062\n",
      "Accuracy for n_estimators=150, max_features=log2, max_depth=5: 0.7697095435684648\n",
      "Accuracy for n_estimators=150, max_features=log2, max_depth=10: 0.7717842323651453\n",
      "Accuracy for n_estimators=150, max_features=log2, max_depth=15: 0.7800829875518672\n",
      "\n",
      "Best combination of hyperparameters:\n",
      "n_estimators:  100\n",
      "max_features:  auto\n",
      "max_depth:  15\n",
      "Accuracy:  0.7842323651452282\n"
     ]
    }
   ],
   "source": [
    "n_estimators_values = [50, 100, 150]\n",
    "max_features_values = ['auto', 'sqrt', 'log2']\n",
    "max_depth_values = [5, 10, 15]\n",
    "\n",
    "best_accuracy = 0.0\n",
    "best_n_estimators = None\n",
    "best_max_features = None\n",
    "best_max_depth = None\n",
    "\n",
    "for n_estimators in n_estimators_values:\n",
    "    for max_features in max_features_values:\n",
    "        for max_depth in max_depth_values:\n",
    "            # Creating the Random Forest model with the adjusted hyperparameters\n",
    "            random_forest = RandomForestClassifier(n_estimators=n_estimators, max_features=max_features, max_depth=max_depth, min_samples_split=3, min_samples_leaf=4)\n",
    "\n",
    "            # Training the model\n",
    "            random_forest.fit(train_features, train_target)\n",
    "\n",
    "            # Evaluating model quality in the validation set\n",
    "            forest_val_accuracy = random_forest.score(val_features, val_target)\n",
    "\n",
    "            print(\"Accuracy for n_estimators={}, max_features={}, max_depth={}: {}\".format(n_estimators, max_features, max_depth, forest_val_accuracy))\n",
    "\n",
    "            # Checking if the new combination of hyperparameters obtained a better accuracy\n",
    "            if forest_val_accuracy > best_accuracy:\n",
    "                best_accuracy = forest_val_accuracy\n",
    "                best_n_estimators = n_estimators\n",
    "                best_max_features = max_features\n",
    "                best_max_depth = max_depth\n",
    "\n",
    "print(\"\\nBest combination of hyperparameters:\")\n",
    "print(\"n_estimators: \", best_n_estimators)\n",
    "print(\"max_features: \", best_max_features)\n",
    "print(\"max_depth: \", best_max_depth)\n",
    "print(\"Accuracy: \", best_accuracy)"
   ]
  },
  {
   "cell_type": "markdown",
   "metadata": {},
   "source": [
    "Based on the accuracies obtained for different combinations of hyperparameters, we can conclude that the best combination found was:\n",
    "\n",
    "* min_samples_leaf: 4\n",
    "\n",
    "\n",
    "* min_samples_split: 3\n",
    "\n",
    "\n",
    "* n_estimators: 50\n",
    "\n",
    "\n",
    "* max_features: auto\n",
    "\n",
    "\n",
    "* max_depth: 10\n",
    "\n",
    "To make sure these are the hyperparameters used from now on, we'll substitute the corresponding values in the Random Forest model code:"
   ]
  },
  {
   "cell_type": "code",
   "execution_count": 20,
   "metadata": {},
   "outputs": [
    {
     "name": "stdout",
     "output_type": "stream",
     "text": [
      "Accuracy of Random Forest model for Classification in validation set: 0.7759336099585062\n"
     ]
    }
   ],
   "source": [
    "# Creating the Random Forest model with the adjusted hyperparameters\n",
    "random_forest = RandomForestClassifier(n_estimators=50, max_features='auto', max_depth=10, min_samples_split=3, min_samples_leaf=4)\n",
    "\n",
    "# Training the model\n",
    "random_forest.fit(train_features, train_target)\n",
    "\n",
    "# Evaluating model quality in the validation set\n",
    "forest_val_accuracy = random_forest.score(val_features, val_target)\n",
    "\n",
    "print(\"Accuracy of Random Forest model for Classification in validation set:\", forest_val_accuracy)"
   ]
  },
  {
   "cell_type": "markdown",
   "metadata": {},
   "source": [
    "#### **For the Logistic Regression for Classification model, the main hyperparameters include:**\n",
    "\n",
    "`C`: inverse regularization parameter, which controls the strength of the regularization. Smaller values indicate stronger regularization.\n",
    "\n",
    "`penalty`: type of correction to be applied. It can be \"l1\" for L1 regularization (lasso), \"l2\" for L2 regularization (ridge) or \"none\" for no regularization."
   ]
  },
  {
   "cell_type": "code",
   "execution_count": 21,
   "metadata": {},
   "outputs": [
    {
     "name": "stdout",
     "output_type": "stream",
     "text": [
      "Accuracy of the Logistic Regression model on the validation set: 0.6846473029045643\n"
     ]
    }
   ],
   "source": [
    "# Creating the Logistic Regression model with the adjusted hyperparameters\n",
    "logistic_regression = LogisticRegression(C=1.0, penalty='l2')\n",
    "\n",
    "# Training the model with the adjusted hyperparameters\n",
    "logistic_regression.fit(train_features, train_target)\n",
    "\n",
    "# Evaluating the quality of the model with the hyperparameters adjusted in the validation set\n",
    "logistic_val_accuracy = logistic_regression.score(val_features, val_target)\n",
    "\n",
    "print(\"Accuracy of the Logistic Regression model on the validation set:\", logistic_val_accuracy)"
   ]
  },
  {
   "cell_type": "markdown",
   "metadata": {},
   "source": [
    "[Back to Index](#back)"
   ]
  },
  {
   "cell_type": "markdown",
   "metadata": {},
   "source": [
    "### Description of model study results <a id='model_results'></a>"
   ]
  },
  {
   "cell_type": "markdown",
   "metadata": {},
   "source": [
    "Based on the results obtained after adjusting the classification models, we can provide the following description of the model study results:\n",
    "\n",
    "1. Decision Tree for Classification:\n",
    "\n",
    "     - Accuracy in the validation set: 0.7676\n",
    "     - Superior performance compared to the Logistic Regression model\n",
    "     - Indication of a moderate ability to correctly predict the \"is_ultimate\" target\n",
    "     - Potential to further improve accuracy through additional hyperparameter tuning\n",
    "\n",
    "\n",
    "2. Random Forest for Classification:\n",
    "\n",
    "     - Accuracy in the validation set: 0.7821\n",
    "     - Better performance in relation to the Decision Tree and Logistic Regression\n",
    "     - Indication of a moderate to high ability to correctly predict the \"is_ultimate\" target\n",
    "     - Potential to further improve accuracy through additional hyperparameter tuning\n",
    "\n",
    "\n",
    "3. Logistic Regression:\n",
    "\n",
    "     - Accuracy in the validation set: 0.6846\n",
    "     - Lower performance compared to Decision Tree and Random Forest models\n",
    "     - Indication of a moderate ability to correctly predict the \"is_ultimate\" target\n",
    "     - Possible need to adjust hyperparameters to improve accuracy\n",
    "\n",
    "\n",
    "\n",
    "In summary, the results show that **Random Forest had the best accuracy in the validation set**, followed by Decision Tree, while Logistic Regression had the lowest performance."
   ]
  },
  {
   "cell_type": "markdown",
   "metadata": {},
   "source": [
    "[Back to Index](#back)"
   ]
  },
  {
   "cell_type": "markdown",
   "metadata": {},
   "source": [
    "## Model Quality Assessment <a id='model_quality'></a>"
   ]
  },
  {
   "cell_type": "markdown",
   "metadata": {},
   "source": [
    "In the code below, we will check the accuracy of the model using the validation set.\n",
    "\n",
    "`Random_forest` refers to the already trained Random Forest model.\n",
    "\n",
    "The variable `val_features` contains the validation set features and `val_target` contains the corresponding labels.\n",
    "\n",
    "The `accuracy_score` metric is used to calculate the model's accuracy, which represents the proportion of correct predictions in relation to the total predictions.\n",
    "\n",
    "The **confusion matrix** shows the distribution of classification results in relation to the actual labels. It is useful to visualize the successes and errors of the model.\n",
    "\n",
    "The **classification report** provides detailed rating metrics for each class, including accuracy, recall, f1-score and support."
   ]
  },
  {
   "cell_type": "markdown",
   "metadata": {},
   "source": [
    "### Verification of model accuracy using the validation set <a id='accuracy'></a>"
   ]
  },
  {
   "cell_type": "code",
   "execution_count": 22,
   "metadata": {
    "scrolled": false
   },
   "outputs": [
    {
     "name": "stdout",
     "output_type": "stream",
     "text": [
      "Accuracy of Random Forest model in validation set: 0.7759336099585062\n",
      "\n"
     ]
    },
    {
     "data": {
      "image/png": "[encoded data removed]",
      "text/plain": [
       "<Figure size 432x288 with 2 Axes>"
      ]
     },
     "metadata": {
      "needs_background": "light"
     },
     "output_type": "display_data"
    },
    {
     "name": "stdout",
     "output_type": "stream",
     "text": [
      "\n",
      "Classification Report:\n",
      "              precision    recall  f1-score   support\n",
      "\n",
      "           0       0.79      0.91      0.85       325\n",
      "           1       0.73      0.50      0.59       157\n",
      "\n",
      "    accuracy                           0.78       482\n",
      "   macro avg       0.76      0.70      0.72       482\n",
      "weighted avg       0.77      0.78      0.76       482\n",
      "\n"
     ]
    }
   ],
   "source": [
    "# Verification of model accuracy using the validation set\n",
    "predictions = random_forest.predict(val_features)\n",
    "\n",
    "# Accuracy calculation using accuracy_score\n",
    "accuracy = accuracy_score(val_target, predictions)\n",
    "print(\"Accuracy of Random Forest model in validation set:\", accuracy)\n",
    "\n",
    "# ________________________________________________\n",
    "print()\n",
    "\n",
    "# Calculation of the confusion matrix\n",
    "cm = confusion_matrix(val_target, predictions)\n",
    "\n",
    "# Plot the confusion matrix as a heatmap\n",
    "sns.heatmap(cm, annot=True, fmt=\"d\", cmap=\"Blues\")\n",
    "\n",
    "# Additional settings to improve the visualization\n",
    "plt.title(\"Confusion Matrix\")\n",
    "plt.xlabel(\"Predicted Label\")\n",
    "plt.ylabel(\"Real Label\")\n",
    "\n",
    "# Display the plot\n",
    "plt.show()\n",
    "\n",
    "# ________________________________________________\n",
    "print()\n",
    "\n",
    "\n",
    "# Generation of the classification report\n",
    "report = classification_report(val_target, predictions)\n",
    "print(\"Classification Report:\")\n",
    "print(report)"
   ]
  },
  {
   "cell_type": "markdown",
   "metadata": {},
   "source": [
    "Based on the updated results, we can make the following **intermediate conclusions**:\n",
    "\n",
    "- The accuracy of the Random Forest model in the validation set is approximately 0.782, which indicates that the model is correctly correcting about 78.2% of the classifications.\n",
    "\n",
    "\n",
    "- The confusion matrix shows that the model performed well against true negatives (299), but still had some false negatives (79) and false positives (26).\n",
    "\n",
    "\n",
    "- The rating report reveals that class 0 (Smart plan) had an accuracy of 0.79 and recall of 0.92, while class 1 (Ultra plan) had an accuracy of 0.75 and recall of 0.50. Class 0 accuracy and recall improved slightly from previous results, while Class 1 accuracy and recall remained similar.\n",
    "\n",
    "\n",
    "- The overall accuracy of the model in the validation set remains around 0.78, which is close to our minimum accuracy target of 0.75. However, there is still room for improvement to achieve more balanced accuracy for both classes.\n",
    "\n",
    "\n",
    "Based on these intermediate conclusions, we can proceed and carry out the real proof of the model using the test set. This will allow us to check how the model behaves on data that was not used during training and validation."
   ]
  },
  {
   "cell_type": "markdown",
   "metadata": {},
   "source": [
    "[Back to Index](#back)"
   ]
  },
  {
   "cell_type": "markdown",
   "metadata": {},
   "source": [
    "## Additional Task: Real Model Proof <a id='proof'></a>"
   ]
  },
  {
   "cell_type": "markdown",
   "metadata": {},
   "source": [
    "Now we will use the test set to carry out the real test of the model we created. We left this data intact during the process so that it would not interfere and serve as a conference resource at the end:"
   ]
  },
  {
   "cell_type": "markdown",
   "metadata": {},
   "source": [
    "### Dealing with more complex and challenging data <a id='extend'></a>"
   ]
  },
  {
   "cell_type": "code",
   "execution_count": 23,
   "metadata": {
    "scrolled": false
   },
   "outputs": [
    {
     "name": "stdout",
     "output_type": "stream",
     "text": [
      "Accuracy of Random Forest model on test set: 0.8115942028985508\n"
     ]
    },
    {
     "data": {
      "image/png": "[encoded data removed]",
      "text/plain": [
       "<Figure size 432x288 with 2 Axes>"
      ]
     },
     "metadata": {
      "needs_background": "light"
     },
     "output_type": "display_data"
    },
    {
     "name": "stdout",
     "output_type": "stream",
     "text": [
      "Classification Report:\n",
      "              precision    recall  f1-score   support\n",
      "\n",
      "           0       0.82      0.93      0.87       339\n",
      "           1       0.77      0.53      0.63       144\n",
      "\n",
      "    accuracy                           0.81       483\n",
      "   macro avg       0.80      0.73      0.75       483\n",
      "weighted avg       0.81      0.81      0.80       483\n",
      "\n"
     ]
    }
   ],
   "source": [
    "# Verification of model accuracy using the test set\n",
    "predictions = random_forest.predict(test_features)\n",
    "\n",
    "# Accuracy calculation using accuracy_score\n",
    "accuracy = accuracy_score(test_target, predictions)\n",
    "print(\"Accuracy of Random Forest model on test set:\", accuracy)\n",
    "\n",
    "# Calculation of the confusion matrix\n",
    "cm = confusion_matrix(test_target, predictions)\n",
    "\n",
    "# Plot the confusion matrix as a heatmap\n",
    "sns.heatmap(cm, annot=True, fmt=\"d\", cmap=\"Blues\")\n",
    "\n",
    "# Additional settings to improve the visualization\n",
    "plt.title(\"Confusion Matrix\")\n",
    "plt.xlabel(\"Predicted Label\")\n",
    "plt.ylabel(\"Real Label\")\n",
    "\n",
    "# Display the plot\n",
    "plt.show()\n",
    "\n",
    "# Generation of the classification report\n",
    "report = classification_report(test_target, predictions)\n",
    "print(\"Classification Report:\")\n",
    "print(report)"
   ]
  },
  {
   "cell_type": "markdown",
   "metadata": {},
   "source": [
    "[Back to Index](#back)"
   ]
  },
  {
   "cell_type": "markdown",
   "metadata": {},
   "source": [
    "### Deep analysis of model performance <a id='deeper'></a>"
   ]
  },
  {
   "cell_type": "markdown",
   "metadata": {},
   "source": [
    "The accuracy of the Random Forest model on the test set is approximately 0.814, which indicates that the model is correctly guessing about 81.4% of the classifications.\n",
    "\n",
    "The confusion matrix shows that the model performed well against true negatives (316), but still had some false negatives (67) and false positives (23).\n",
    "\n",
    "The rating report reveals that Class 0 (Smart plan) had an accuracy of 0.83 and recall of 0.93, while Class 1 (Ultra plan) had an accuracy of 0.77 and recall of 0.53. Compared to previous results, Class 0 accuracy remained similar, while Class 1 accuracy decreased a little. Class 0 recall remained high, but Class 1 recall decreased significantly.\n",
    "\n",
    "In general, the Random Forest model still performs satisfactorily, with an accuracy close to 0.815 in the test set. However, it is important to note that there is a higher rate of false negatives for class 1, indicating that the model can still be improved to improve the classification of the Ultra plan.\n",
    "\n",
    "Based on these conclusions, we can say that the Random Forest model is able to make reasonably accurate predictions to classify Megaline's Smart and Ultra plans, but in general, the Random Forest model achieved a satisfactory performance. We can always continue to improve it to better meet Megaline's needs and better recommend Smart and Ultra plans to customers."
   ]
  },
  {
   "cell_type": "markdown",
   "metadata": {},
   "source": [
    "[Back to Index](#back)"
   ]
  },
  {
   "cell_type": "markdown",
   "metadata": {},
   "source": [
    "## Conclusion <a id='conclusion'></a>"
   ]
  },
  {
   "cell_type": "markdown",
   "metadata": {},
   "source": [
    "The project aimed to develop a machine learning model capable of recommending Megaline's Smart and Ultra plans to customers. During the process, we followed a systematic approach, breaking it down into key steps, including exploratory data analysis, pre-processing, training and model evaluation.\n",
    "\n",
    "We perform an exploratory analysis of the data to better understand its characteristics and identify possible problems or relevant patterns. Then, we checked the pre-processing of the data, in case there was a need to remove missing data, transform categorical variables into numerical ones and normalize the data.\n",
    "\n",
    "After pre-processing, we split the data into training, testing and validation sets. We use the training set to train the Random Forest model, adjusting its parameters to obtain the best possible performance. Then, we evaluate the model using the test set, calculating performance metrics such as accuracy, precision, recall and confusion matrix.\n",
    "\n",
    "Based on the most recent results, we observed that the Random Forest model reached an accuracy of approximately 0.814 in the test set, surpassing the minimum target of 0.75 previously established. The model's performance in the Class 0 (Smart) rating remained consistent, with high accuracy and recall. However, there was a reduction in accuracy for class 1 (Ultra) and a significant decrease in recall, indicating a greater number of false negatives for this class.\n",
    "\n",
    "These results have several applications for the Megaline company. The model can be used to recommend plans to customers based on their characteristics, helping to improve customer satisfaction and increase sales. In addition, the company can leverage the insights gained during the model building process to better understand its customer profile and adapt its marketing strategy and service offering.\n",
    "\n",
    "However, it is important to point out that there is always room for improvement. It is important that we continue to improve our model, exploring different machine learning techniques and fine-tuning its parameters. In addition, it is critical that we track the performance of the model over time, monitoring performance metrics and conducting periodic evaluations to ensure it remains relevant and effective."
   ]
  },
  {
   "cell_type": "markdown",
   "metadata": {},
   "source": [
    "[Back to Index](#back)"
   ]
  }
 ],
 "metadata": {
  "kernelspec": {
   "display_name": "Python 3 (ipykernel)",
   "language": "python",
   "name": "python3"
  },
  "language_info": {
   "codemirror_mode": {
    "name": "ipython",
    "version": 3
   },
   "file_extension": ".py",
   "mimetype": "text/x-python",
   "name": "python",
   "nbconvert_exporter": "python",
   "pygments_lexer": "ipython3",
   "version": "3.9.5"
  },
  "toc": {
   "base_numbering": 1,
   "nav_menu": {},
   "number_sections": true,
   "sideBar": true,
   "skip_h1_title": true,
   "title_cell": "Table of Contents",
   "title_sidebar": "Contents",
   "toc_cell": false,
   "toc_position": {
    "height": "calc(100% - 180px)",
    "left": "10px",
    "top": "150px",
    "width": "261.797px"
   },
   "toc_section_display": true,
   "toc_window_display": false
  }
 },
 "nbformat": 4,
 "nbformat_minor": 2
}
